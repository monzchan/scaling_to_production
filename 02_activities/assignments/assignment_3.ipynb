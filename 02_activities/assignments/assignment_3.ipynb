{
 "cells": [
  {
   "cell_type": "markdown",
   "metadata": {},
   "source": [
    "# Assignment 3"
   ]
  },
  {
   "cell_type": "markdown",
   "metadata": {},
   "source": [
    "In this assigment, we will work with the *Forest Fire* data set. Please download the data from the [UCI Machine Learning Repository](https://archive.ics.uci.edu/dataset/162/forest+fires). Extract the data files into the subdirectory: `../data/fires/` (relative to `./src/`).\n",
    "\n",
    "## Objective\n",
    "\n",
    "+ The model objective is to predict the area affected by forest fires given the features set. \n",
    "+ The objective of this exercise is to assess your ability to construct and evaluate model pipelines.\n",
    "+ Please note: the instructions are not meant to be 100% prescriptive, but instead they are a set of minimum requirements. If you find predictive performance gains by applying additional steps, by all means show them. "
   ]
  },
  {
   "cell_type": "markdown",
   "metadata": {},
   "source": [
    "## Variable Description\n",
    "\n",
    "From the description file contained in the archive (`forestfires.names`), we obtain the following variable descriptions:\n",
    "\n",
    "1. X - x-axis spatial coordinate within the Montesinho park map: 1 to 9\n",
    "2. Y - y-axis spatial coordinate within the Montesinho park map: 2 to 9\n",
    "3. month - month of the year: \"jan\" to \"dec\" \n",
    "4. day - day of the week: \"mon\" to \"sun\"\n",
    "5. FFMC - FFMC index from the FWI system: 18.7 to 96.20\n",
    "6. DMC - DMC index from the FWI system: 1.1 to 291.3 \n",
    "7. DC - DC index from the FWI system: 7.9 to 860.6 \n",
    "8. ISI - ISI index from the FWI system: 0.0 to 56.10\n",
    "9. temp - temperature in Celsius degrees: 2.2 to 33.30\n",
    "10. RH - relative humidity in %: 15.0 to 100\n",
    "11. wind - wind speed in km/h: 0.40 to 9.40 \n",
    "12. rain - outside rain in mm/m2 : 0.0 to 6.4 \n",
    "13. area - the burned area of the forest (in ha): 0.00 to 1090.84 \n",
    "\n",
    "\n",
    "\n"
   ]
  },
  {
   "cell_type": "markdown",
   "metadata": {},
   "source": [
    "\n",
    "\n",
    "\n",
    "\n",
    "### Specific Tasks\n",
    "\n",
    "+ Construct four model pipelines, out of combinations of the following components:\n",
    "\n",
    "    + Preprocessors:\n",
    "\n",
    "        - A simple processor that only scales numeric variables and recodes categorical variables.\n",
    "        - A transformation preprocessor that scales numeric variables and applies a non-linear transformation.\n",
    "    \n",
    "    + Regressor:\n",
    "\n",
    "        - A baseline regressor, which could be a [K-nearest neighbours model](https://open.spotify.com/track/4R3AU2pjv8ge2siX1fVbZs?si=b2712f32da0e4358) or a simple [linear regression model](https://scikit-learn.org/stable/modules/linear_model.html)\n",
    "        - An advanced regressor of your choice (e.g., Random Forest, Neural Network, etc.)\n",
    "\n",
    "+ Evaluate tune and evaluate each of the four model pipelines. \n",
    "\n",
    "    - Select a [performance metric](https://scikit-learn.org/stable/modules/linear_model.html) out of the following options: explained variance, max error, root mean squared error (RMSE), mean absolute error (MAE), r-squared.\n",
    "    - *TIPS*: \n",
    "    \n",
    "        * Out of the suggested metrics above, [some are correlation metrics, but this is a prediction problem](https://www.tmwr.org/performance#performance). Choose wisely (and don't choose the incorrect options.) \n",
    "\n",
    "+ Select the best-performing model and explain its predictions.\n",
    "\n",
    "    - Provide local explanations.\n",
    "    - Obtain global explanations and recommend a variable selection strategy.\n",
    "\n",
    "+ Export your model as a pickle file.\n",
    "\n",
    "\n",
    "You can work on the Jupyter notebook, as this experiment is fairly short (no need to use sacred). "
   ]
  },
  {
   "cell_type": "markdown",
   "metadata": {},
   "source": [
    "# Load the data\n",
    "\n",
    "Assuming that the files `adult.data` and `adult.test` are in `../data/adult/`, then you can use the code below to load them."
   ]
  },
  {
   "cell_type": "code",
   "execution_count": 6,
   "metadata": {},
   "outputs": [],
   "source": [
    "import pandas as pd\n",
    "columns = [\n",
    "    'coord_x', 'coord_y', 'month', 'day', 'ffmc', 'dmc', 'dc', 'isi', 'temp', 'rh', 'wind', 'rain', 'area' \n",
    "]\n",
    "fires_dt = (pd.read_csv('../data/fires/forestfires.csv', header = None, names = columns))\n"
   ]
  },
  {
   "cell_type": "markdown",
   "metadata": {},
   "source": [
    "# Get X and Y\n",
    "\n",
    "Create the features data frame and target data."
   ]
  },
  {
   "cell_type": "code",
   "execution_count": null,
   "metadata": {},
   "outputs": [],
   "source": [
    "from sklearn.model_selection import train_test_split\n",
    "\n",
    "# Create the features data frame (all columns except 'area)\n",
    "X = fires_dt.drop('area', axis=1)\n",
    "\n",
    "# Create the target data (only the 'area' column)\n",
    "Y = fires_dt['area']\n",
    "\n",
    "# Perform the train-test split with a 80-20% split\n",
    "X_train, X_test, Y_train, Y_test = train_test_split(X, Y, test_size=0.2, random_state=32)"
   ]
  },
  {
   "cell_type": "code",
   "execution_count": null,
   "metadata": {},
   "outputs": [],
   "source": [
    "# Convert numerical columns to appropriate data types\n",
    "for col in ['coord_x', 'coord_y', 'ffmc', 'dmc', 'dc', 'isi', 'temp', 'rh', 'wind', 'rain', 'area']:\n",
    "   fires_dt[col] = pd.to_numeric(fires_dt[col], errors='coerce')\n",
    "\n",
    "\n",
    "# Identify numerical and categorical columns\n",
    "numerical_cols = ['coord_x', 'coord_y', 'ffmc', 'dmc', 'dc', 'isi', 'temp', 'rh', 'wind', 'rain']\n",
    "categorical_cols = ['month', 'day']"
   ]
  },
  {
   "cell_type": "markdown",
   "metadata": {},
   "source": [
    "# Preprocessing\n",
    "\n",
    "Create two [Column Transformers](https://scikit-learn.org/stable/modules/generated/sklearn.compose.ColumnTransformer.html), called preproc1 and preproc2, with the following guidelines:\n",
    "\n",
    "- Numerical variables\n",
    "\n",
    "    * (Preproc 1 and 2) Scaling: use a scaling method of your choice (Standard, Robust, Min-Max). \n",
    "    * Preproc 2 only: \n",
    "        \n",
    "        + Choose a transformation for any of your input variables (or several of them). Evaluate if this transformation is convenient.\n",
    "        + The choice of scaler is up to you.\n",
    "\n",
    "- Categorical variables: \n",
    "    \n",
    "    * (Preproc 1 and 2) Apply [one-hot encoding](https://scikit-learn.org/stable/modules/generated/sklearn.preprocessing.OneHotEncoder.html) where appropriate.\n",
    "\n",
    "\n",
    "+ The only difference between preproc1 and preproc2 is the non-linear transformation of the numerical variables.\n",
    "    \n"
   ]
  },
  {
   "cell_type": "markdown",
   "metadata": {},
   "source": [
    "### Preproc 1\n",
    "\n",
    "Create preproc1 below.\n",
    "\n",
    "+ Numeric: scaled variables, no other transforms.\n",
    "+ Categorical: one-hot encoding."
   ]
  },
  {
   "cell_type": "code",
   "execution_count": 7,
   "metadata": {},
   "outputs": [],
   "source": [
    "from sklearn.compose import ColumnTransformer\n",
    "from sklearn.preprocessing import StandardScaler, OneHotEncoder, FunctionTransformer\n",
    "from sklearn.pipeline import Pipeline\n",
    "from sklearn import set_config\n",
    "import numpy as np\n",
    "from sklearn.impute import SimpleImputer\n",
    "\n",
    "# Preproc 1 -----------------------------------------\n",
    "# Preprocessing pipeline for numerical features (Standard Scaling for Preproc 1)\n",
    "numerical_transformer1 = Pipeline(steps=[\n",
    "   ('scaler', StandardScaler())\n",
    "])\n",
    "\n",
    "\n",
    "# Preprocessing pipeline for categorical features (One-Hot Encoding)\n",
    "categorical_transformer = Pipeline(steps=[\n",
    "   ('onehot', OneHotEncoder(handle_unknown='ignore'))\n",
    "])\n",
    "\n",
    "\n",
    "# Create the ColumnTransformer for Preproc 1\n",
    "preproc1 = ColumnTransformer(\n",
    "   transformers=[\n",
    "       ('num', numerical_transformer1, numerical_cols),\n",
    "       ('cat', categorical_transformer, categorical_cols)\n",
    "   ]\n",
    ")\n",
    "\n"
   ]
  },
  {
   "cell_type": "markdown",
   "metadata": {},
   "source": [
    "### Preproc 2\n",
    "\n",
    "Create preproc1 below.\n",
    "\n",
    "+ Numeric: scaled variables, non-linear transformation to one or more variables.\n",
    "+ Categorical: one-hot encoding."
   ]
  },
  {
   "cell_type": "code",
   "execution_count": 8,
   "metadata": {},
   "outputs": [],
   "source": [
    "from sklearn.preprocessing import StandardScaler, OneHotEncoder, PowerTransformer\n",
    "# Preproc 2 ---------------------------\n",
    "# Preprocessing pipeline for numerical features (Preproc2)\n",
    "numerical_transformer2 = Pipeline(steps=[\n",
    "   ('scaler', StandardScaler()),\n",
    "   ('power', PowerTransformer(method='yeo-johnson'))\n",
    "])\n",
    "\n",
    "\n",
    "# Preprocessing pipeline for categorical features (One-Hot Encoding)\n",
    "categorical_transformer = Pipeline(steps=[\n",
    "   ('onehot', OneHotEncoder(handle_unknown='ignore'))\n",
    "])\n",
    "\n",
    "\n",
    "# ColumnTransformer for Preproc2\n",
    "preproc2 = ColumnTransformer(\n",
    "   transformers=[\n",
    "       ('num', numerical_transformer2, numerical_cols),\n",
    "       ('cat', categorical_transformer, categorical_cols)\n",
    "   ]\n",
    ")\n"
   ]
  },
  {
   "cell_type": "code",
   "execution_count": null,
   "metadata": {},
   "outputs": [],
   "source": [
    "# Remove rows with Nan values\n",
    "X_clean = X.dropna()\n",
    "Y_clean = Y[X_clean.index]\n",
    "\n",
    "\n",
    "# Applying the preprocessors\n",
    "X_preproc1 = preproc1.fit_transform(X_clean)\n",
    "X_preproc2 = preproc2.fit_transform(X_clean)"
   ]
  },
  {
   "cell_type": "markdown",
   "metadata": {},
   "source": [
    "## Model Pipeline\n",
    "\n",
    "\n",
    "Create a [model pipeline](https://scikit-learn.org/stable/modules/generated/sklearn.pipeline.Pipeline.html): \n",
    "\n",
    "+ Add a step labelled `preprocessing` and assign the Column Transformer from the previous section.\n",
    "+ Add a step labelled `regressor` and assign a regression model to it. \n",
    "\n",
    "## Regressor\n",
    "\n",
    "+ Use a regression model to perform a prediction. \n",
    "\n",
    "    - Choose a baseline regressor, tune it (if necessary) using grid search, and evaluate it using cross-validation.\n",
    "    - Choose a more advance regressor, tune it (if necessary) using grid search, and evaluate it using cross-validation.\n",
    "    - Both model choices are up to you, feel free to experiment."
   ]
  },
  {
   "cell_type": "code",
   "execution_count": null,
   "metadata": {},
   "outputs": [],
   "source": [
    "from sklearn.linear_model import LinearRegression \n",
    "\n",
    "# Regression model (example: Linear Regression)\n",
    "regressor = LinearRegression()\n",
    "\n",
    "# pipeline_preprocA ----------------------------------------\n",
    "# Combine preprocessing and regression into a Pipeline\n",
    "pipeline_preprocA = Pipeline(steps=[\n",
    "   ('preprocessing', preproc1),\n",
    "   ('regressor', regressor)\n",
    "])\n",
    "\n",
    "# Display the pipeline diagram for preproc1\n",
    "set_config(display=\"diagram\")\n",
    "pipeline_preprocA"
   ]
  },
  {
   "cell_type": "code",
   "execution_count": null,
   "metadata": {},
   "outputs": [],
   "source": [
    "# pipeline_preprocB -----------------------------------------\n",
    "pipeline_preprocB = Pipeline(steps=[\n",
    "   ('preprocessing', preproc2),\n",
    "   ('regressor', regressor)\n",
    "])\n",
    "\n",
    "# Display the pipeline diagram for preproc1\n",
    "set_config(display=\"diagram\")\n",
    "pipeline_preprocB\n"
   ]
  },
  {
   "cell_type": "code",
   "execution_count": 10,
   "metadata": {},
   "outputs": [],
   "source": [
    "# Regression model\n",
    "regressor = DecisionTreeRegressor()\n",
    "\n",
    "# pipeline_preprocC ----------------------------------------\n",
    "# Combine preprocessing and regression into a Pipeline\n",
    "pipeline_preprocC = Pipeline(steps=[\n",
    "   ('preprocessing', preproc1),\n",
    "   ('regressor', regressor)\n",
    "])\n",
    "\n",
    "\n",
    "# Display the pipeline diagram for preproc1\n",
    "set_config(display=\"diagram\")\n",
    "pipeline_preprocC\n",
    "C = preproc1 + advanced model\n"
   ]
  },
  {
   "cell_type": "code",
   "execution_count": 9,
   "metadata": {},
   "outputs": [],
   "source": [
    "# pipeline_preprocD -----------------------------------------\n",
    "pipeline_preprocD = Pipeline(steps=[\n",
    "   ('preprocessing', preproc2),\n",
    "   ('regressor', regressor)\n",
    "])\n",
    "\n",
    "# Display the pipeline diagram for preproc1\n",
    "set_config(display=\"diagram\")\n",
    "pipeline_preprocD\n"
   ]
  },
  {
   "cell_type": "markdown",
   "metadata": {},
   "source": [
    "# Tune Hyperparams\n",
    "\n",
    "+ Perform GridSearch on each of the four pipelines. \n",
    "+ Tune at least one hyperparameter per pipeline.\n",
    "+ Experiment with at least four value combinations per pipeline."
   ]
  },
  {
   "cell_type": "code",
   "execution_count": null,
   "metadata": {},
   "outputs": [],
   "source": [
    "from sklearn.metrics import mean_squared_error\n",
    "from sklearn.model_selection import train_test_split, GridSearchCV, cross_val_score\n",
    "\n",
    "# pipeline_preproc A Evaluation -------------------------------\n",
    "# Grid Search for Parameter Tuning\n",
    "param_grid = {\n",
    "   'regressor__fit_intercept': [True, False]\n",
    "}\n",
    "\n",
    "# Perform Grid Search CV\n",
    "grid_search = GridSearchCV(pipeline_preprocA, param_grid, cv=5, scoring='neg_mean_squared_error', verbose=1)\n",
    "grid_search.fit(X_clean, Y_clean)\n",
    "print(\"Best parameters found:\", grid_search.best_params_)\n",
    "print(\"Best cross-validation score (RMSE):\", np.sqrt(-grid_search.best_score_))\n",
    "\n",
    "# Evaluate with cross-validation\n",
    "cv_scores = cross_val_score(grid_search.best_estimator_, X_clean, Y_clean, cv=5, scoring='neg_mean_squared_error')\n",
    "cv_rmse_scores = np.sqrt(-cv_scores)\n",
    "print(\"Cross-validation RMSE scores:\", cv_rmse_scores)\n",
    "print(\"Mean RMSE:\", cv_rmse_scores.mean())"
   ]
  },
  {
   "cell_type": "markdown",
   "metadata": {},
   "source": [
    "Pipeline_preproc A Evaluation Result:\n",
    "Fitting 5 folds for each of 2 candidates, totalling 10 fits\n",
    "Best parameters found: {'regressor__fit_intercept': True}\n",
    "Best cross-validation score (RMSE): 66.55674468064122\n",
    "Cross-validation RMSE scores: [ 27.53098144  21.33691721 116.07167972  25.88073879  82.42168928]\n",
    "Mean RMSE: 54.64840128809867\n"
   ]
  },
  {
   "cell_type": "code",
   "execution_count": null,
   "metadata": {},
   "outputs": [],
   "source": [
    "# pipeline_preproc B Evaluation -------------------------------\n",
    "# Grid Search for Parameter Tuning\n",
    "param_grid = {\n",
    "   'regressor__fit_intercept': [True, False]\n",
    "}\n",
    "\n",
    "# Perform Grid Search CV\n",
    "grid_search = GridSearchCV(pipeline_preprocB, param_grid, cv=5, scoring='neg_mean_squared_error', verbose=1)\n",
    "grid_search.fit(X_clean, Y_clean)\n",
    "print(\"Best parameters found:\", grid_search.best_params_)\n",
    "print(\"Best cross-validation score (RMSE):\", np.sqrt(-grid_search.best_score_))\n",
    "\n",
    "# Evaluate with cross-validation\n",
    "cv_scores = cross_val_score(grid_search.best_estimator_, X_clean, Y_clean, cv=5, scoring='neg_mean_squared_error')\n",
    "cv_rmse_scores = np.sqrt(-cv_scores)\n",
    "print(\"Cross-validation RMSE scores:\", cv_rmse_scores)\n",
    "print(\"Mean RMSE:\", cv_rmse_scores.mean())"
   ]
  },
  {
   "cell_type": "markdown",
   "metadata": {},
   "source": [
    "Pipeline_preproc B Evaluation Result:\n",
    "Fitting 5 folds for each of 2 candidates, totalling 10 fits\n",
    "Best parameters found: {'regressor__fit_intercept': True}\n",
    "Best cross-validation score (RMSE): 67.0838333273364\n",
    "Cross-validation RMSE scores: [ 32.83048751  25.82364535 116.11731218  24.49428703  81.69027859]\n",
    "Mean RMSE: 56.191202129728914"
   ]
  },
  {
   "cell_type": "code",
   "execution_count": null,
   "metadata": {},
   "outputs": [],
   "source": [
    "# pipeline_preproc C Evaluation -------------------------------\n",
    "# Grid Search for Parameter Tuning\n",
    "param_grid = {\n",
    "   'regressor__ccp_alpha': [0.0, 0.01, 0.1, 0.2, 0.5]\n",
    "}\n",
    "\n",
    "# Perform Grid Search CV\n",
    "grid_search = GridSearchCV(pipeline_preprocC, param_grid, cv=5, scoring='neg_mean_squared_error', verbose=1)\n",
    "grid_search.fit(X_clean, Y_clean)\n",
    "print(\"Best parameters found:\", grid_search.best_params_)\n",
    "print(\"Best cross-validation score (RMSE):\", np.sqrt(-grid_search.best_score_))\n"
   ]
  },
  {
   "cell_type": "markdown",
   "metadata": {},
   "source": [
    "Pipeline_preproc C Evaluation Result:\n",
    "Fitting 5 folds for each of 5 candidates, totalling 25 fits\n",
    "Best parameters found: {'regressor__ccp_alpha': 0.1}\n",
    "Best cross-validation score (RMSE): 76.76248834898554\n",
    "Cross-validation RMSE scores: [ 62.71030811  48.48987748 119.72278194  45.55621175  98.72050445]\n",
    "Mean RMSE: 75.03993674651399\n"
   ]
  },
  {
   "cell_type": "code",
   "execution_count": null,
   "metadata": {},
   "outputs": [],
   "source": [
    "# pipeline_preproc D Evaluation -------------------------------\n",
    "# Grid Search for Parameter Tuning\n",
    "param_grid = {\n",
    "   'regressor__ccp_alpha': [0.0, 0.01, 0.1, 0.2, 0.5]\n",
    "}\n",
    "\n",
    "# Perform Grid Search CV\n",
    "grid_search = GridSearchCV(pipeline_preprocD, param_grid, cv=5, scoring='neg_mean_squared_error', verbose=1)\n",
    "grid_search.fit(X_clean, Y_clean)\n",
    "print(\"Best parameters found:\", grid_search.best_params_)\n",
    "print(\"Best cross-validation score (RMSE):\", np.sqrt(-grid_search.best_score_))\n"
   ]
  },
  {
   "cell_type": "markdown",
   "metadata": {},
   "source": [
    "Pipeline_preproc D Evaluation Result:\n",
    "Fitting 5 folds for each of 5 candidates, totalling 25 fits\n",
    "Best parameters found: {'regressor__ccp_alpha': 0.2}\n",
    "Best cross-validation score (RMSE): 75.57386141662559\n",
    "Cross-validation RMSE scores: [ 57.96926351  40.29760334 119.79802854  46.30282412  88.12164457]\n",
    "Mean RMSE: 70.49787281566717"
   ]
  },
  {
   "cell_type": "markdown",
   "metadata": {},
   "source": [
    "# Evaluate\n",
    "\n",
    "+ Which model has the best performance?"
   ]
  },
  {
   "cell_type": "markdown",
   "metadata": {},
   "source": [
    "A: 54.64840128809867\n",
    "B: 56.191202129728914\n",
    "C: 75.03993674651399\n",
    "D: 70.49787281566717\n",
    "\n",
    "Pipeline_preproc A and B generally show lower RMSE scores across all folds compared to Pipeline_preproc C and D. Lower RMSE indicates better predictive performance, suggesting that Pipeline_preproc A and B (linear regression model) performs better in terms of predicting the target variable (lower error) than Pipeline_preproc C and D (DecisionTree model).\n",
    "\n",
    "Pipeline_preproc A and B have a lower mean RMSE (54.64840128809867) compared to other models (Pipeline_preproc C, D) \n",
    " which further supports that Pipeline_preproc A and B are likely the better-performing models on average across different data folds.\n",
    "\n",
    "The performance of Pipeline_preproc A and B are similar across different data folds, but Pipeline_preproc A has a lowest mean RMSE and is simplier than Pipeline_preproc B, so Pipeline_preproc A has the best performance.\n"
   ]
  },
  {
   "cell_type": "markdown",
   "metadata": {},
   "source": [
    "# Export\n",
    "\n",
    "+ Save the best performing model to a pickle file."
   ]
  },
  {
   "cell_type": "markdown",
   "metadata": {},
   "source": [
    "# Explain\n",
    "\n",
    "+ Use SHAP values to explain the following only for the best-performing model:\n",
    "\n",
    "    - Select an observation in your test set and explain which are the most important features that explain that observation's specific prediction.\n",
    "\n",
    "    - In general, across the complete training set, which features are the most and least important.\n",
    "\n",
    "+ If you were to remove features from the model, which ones would you remove? Why? How would you test that these features are actually enhancing model performance?"
   ]
  },
  {
   "cell_type": "code",
   "execution_count": null,
   "metadata": {},
   "outputs": [],
   "source": []
  },
  {
   "cell_type": "markdown",
   "metadata": {},
   "source": [
    "*(Answer here.)*"
   ]
  },
  {
   "cell_type": "markdown",
   "metadata": {},
   "source": [
    "## Submission Information\n",
    "\n",
    "🚨 **Please review our [Assignment Submission Guide](https://github.com/UofT-DSI/onboarding/blob/main/onboarding_documents/submissions.md)** 🚨 for detailed instructions on how to format, branch, and submit your work. Following these guidelines is crucial for your submissions to be evaluated correctly.\n",
    "\n",
    "### Submission Parameters:\n",
    "* Submission Due Date: `HH:MM AM/PM - DD/MM/YYYY`\n",
    "* The branch name for your repo should be: `assignment-3`\n",
    "* What to submit for this assignment:\n",
    "    * This Jupyter Notebook (assignment_3.ipynb) should be populated and should be the only change in your pull request.\n",
    "* What the pull request link should look like for this assignment: `https://github.com/<your_github_username>/production/pull/<pr_id>`\n",
    "    * Open a private window in your browser. Copy and paste the link to your pull request into the address bar. Make sure you can see your pull request properly. This helps the technical facilitator and learning support staff review your submission easily.\n",
    "\n",
    "Checklist:\n",
    "- [ ] Created a branch with the correct naming convention.\n",
    "- [ ] Ensured that the repository is public.\n",
    "- [ ] Reviewed the PR description guidelines and adhered to them.\n",
    "- [ ] Verify that the link is accessible in a private browser window.\n",
    "\n",
    "If you encounter any difficulties or have questions, please don't hesitate to reach out to our team via our Slack at `#cohort-3-help`. Our Technical Facilitators and Learning Support staff are here to help you navigate any challenges."
   ]
  },
  {
   "cell_type": "markdown",
   "metadata": {},
   "source": [
    "# Reference\n",
    "\n",
    "Cortez,Paulo and Morais,Anbal. (2008). Forest Fires. UCI Machine Learning Repository. https://doi.org/10.24432/C5D88D."
   ]
  }
 ],
 "metadata": {
  "kernelspec": {
   "display_name": "env",
   "language": "python",
   "name": "python3"
  },
  "language_info": {
   "codemirror_mode": {
    "name": "ipython",
    "version": 3
   },
   "file_extension": ".py",
   "mimetype": "text/x-python",
   "name": "python",
   "nbconvert_exporter": "python",
   "pygments_lexer": "ipython3",
   "version": "3.11.0"
  }
 },
 "nbformat": 4,
 "nbformat_minor": 2
}
